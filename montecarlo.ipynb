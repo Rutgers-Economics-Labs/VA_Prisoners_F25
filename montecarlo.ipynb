{
 "cells": [
  {
   "cell_type": "code",
   "execution_count": 1,
   "id": "2688a939",
   "metadata": {},
   "outputs": [],
   "source": [
    "import numpy as np"
   ]
  },
  {
   "cell_type": "code",
   "execution_count": 5,
   "id": "014ae6c8",
   "metadata": {},
   "outputs": [
    {
     "data": {
      "text/plain": [
       "8.474139205570557"
      ]
     },
     "execution_count": 5,
     "metadata": {},
     "output_type": "execute_result"
    }
   ],
   "source": [
    "S0 = 100\n",
    "sim_count = 100_000\n",
    "steps = 10\n",
    "strike = 102\n",
    "\n",
    "sims = 1 + np.random.normal(.01, .01, (sim_count, steps))\n",
    "sims = np.hstack((S0 * np.ones((sim_count, 1)), sims))\n",
    "S10 = np.cumprod(sims, 1)\n",
    "\n",
    "price = np.maximum(S10[:, -1] - strike, 0)\n",
    "price = np.mean(price)\n",
    "\n",
    "price"
   ]
  }
 ],
 "metadata": {
  "kernelspec": {
   "display_name": "base",
   "language": "python",
   "name": "python3"
  },
  "language_info": {
   "codemirror_mode": {
    "name": "ipython",
    "version": 3
   },
   "file_extension": ".py",
   "mimetype": "text/x-python",
   "name": "python",
   "nbconvert_exporter": "python",
   "pygments_lexer": "ipython3",
   "version": "3.9.19"
  }
 },
 "nbformat": 4,
 "nbformat_minor": 5
}
